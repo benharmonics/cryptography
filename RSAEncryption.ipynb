{
 "cells": [
  {
   "cell_type": "markdown",
   "id": "fe791592-f8fe-404a-8dd9-a2cf26ad6812",
   "metadata": {},
   "source": [
    "# RSA Encryption"
   ]
  },
  {
   "cell_type": "markdown",
   "id": "931b54f7-fff5-46a2-807c-d145f99d123b",
   "metadata": {},
   "source": [
    "## Generating the keys\n",
    "\n",
    "To generate a private key/public key pair, we start by picking two (large) prime numbers, $p$ and $q$:"
   ]
  },
  {
   "cell_type": "code",
   "execution_count": 1,
   "id": "606119e6-49e2-441b-9d0f-a9cf92d93351",
   "metadata": {},
   "outputs": [],
   "source": [
    "p = 2    # both p and q should be large, but for illustration\n",
    "q = 7    # we'll just pick small, easy-to-work-with numbers"
   ]
  },
  {
   "cell_type": "markdown",
   "id": "0ab9761c-1294-4536-a684-508f7e0ca61c",
   "metadata": {},
   "source": [
    "With the product $pq=N$, we define $\\phi (N)$ to be the count of numbers coprime with $N$:"
   ]
  },
  {
   "cell_type": "code",
   "execution_count": 2,
   "id": "a5d772dc-c0cf-404d-b359-a43c6ad5041e",
   "metadata": {},
   "outputs": [],
   "source": [
    "N = p * q\n",
    "\n",
    "def phi(p: int, q: int):\n",
    "    \"\"\"The count of numbers coprime with p*q,\n",
    "    given that p and q are prime numbers.\"\"\"\n",
    "    return (p - 1) * (q - 1)"
   ]
  },
  {
   "cell_type": "markdown",
   "id": "75ef97ae-1e09-42c6-8f62-5ebb49663e08",
   "metadata": {},
   "source": [
    "Note that this works because, for a prime number $p$, $\\phi (p)=(p-1)$, and given *two* prime numbers $p$ and $q$, $\\phi (pq)=\\phi (p) \\times \\phi (q)$."
   ]
  },
  {
   "cell_type": "markdown",
   "id": "e49a72b3-2da1-4c5b-a22a-6b74d41853c2",
   "metadata": {},
   "source": [
    "Now we need to choose a number $e$ which will be used in our public key. The public key will ultimately take the form $(e,N)$.\n",
    "\n",
    "$e$ has these requirements:\n",
    "1. $1<e<\\phi (N)$\n",
    "2. $e$ is coprime with $N$ and $\\phi (N)$\n",
    "\n",
    "We'll use the `gcd` function (greatest common *divisor*) from the `math` library to check for coprimes."
   ]
  },
  {
   "cell_type": "code",
   "execution_count": 3,
   "id": "0f4420d3-d02e-4202-9fa4-8ddc35a7965e",
   "metadata": {},
   "outputs": [],
   "source": [
    "from math import gcd"
   ]
  },
  {
   "cell_type": "code",
   "execution_count": 4,
   "id": "95182e09-ea48-42b5-96e5-d1b46e7e55ea",
   "metadata": {},
   "outputs": [],
   "source": [
    "def choose_e(p: int, q: int):\n",
    "    _phi = phi(p, q)\n",
    "    N = p * q\n",
    "    options = []\n",
    "    for i in range(2, _phi):\n",
    "        if gcd(N, i) == 1 and gcd(_phi, i) == 1:\n",
    "            options.append(i)\n",
    "    if len(options) > 1:\n",
    "        print('More than one option!', options)\n",
    "    return options[0]"
   ]
  },
  {
   "cell_type": "code",
   "execution_count": 5,
   "id": "58bff4c3-e2a0-48c4-a3c1-592654a71340",
   "metadata": {},
   "outputs": [
    {
     "data": {
      "text/plain": [
       "5"
      ]
     },
     "execution_count": 5,
     "metadata": {},
     "output_type": "execute_result"
    }
   ],
   "source": [
    "choose_e(p, q)"
   ]
  },
  {
   "cell_type": "markdown",
   "id": "03752806-b939-4c9b-aed8-b9290f17f07a",
   "metadata": {},
   "source": [
    "For the private key, which will ultimately have the form $(d,N)$, we need to choose a number $d$ such that $d\\times e \\space(mod \\space \\phi (N))=1$:"
   ]
  },
  {
   "cell_type": "code",
   "execution_count": 6,
   "id": "03b37921-e2bf-4828-8189-3415fbba6b97",
   "metadata": {},
   "outputs": [],
   "source": [
    "def choose_d(e: int, _phi: int):\n",
    "    d = 1\n",
    "    while (d * e) % _phi != 1:\n",
    "        d += 1\n",
    "    # we could just return the first d we find, but there's a whole family\n",
    "    # such that (d*e)%phi == 1; returning a larger d makes it harder to guess\n",
    "    return d + _phi"
   ]
  },
  {
   "cell_type": "code",
   "execution_count": 7,
   "id": "b041d08b-b38a-4d34-a02a-16b34c753bad",
   "metadata": {},
   "outputs": [
    {
     "data": {
      "text/plain": [
       "11"
      ]
     },
     "execution_count": 7,
     "metadata": {},
     "output_type": "execute_result"
    }
   ],
   "source": [
    "choose_d(choose_e(p, q), phi(p, q))"
   ]
  },
  {
   "cell_type": "markdown",
   "id": "3b0d7545-fc19-43fe-915f-f3625f4c31a4",
   "metadata": {},
   "source": [
    "Now let's write the whole operation as one function:"
   ]
  },
  {
   "cell_type": "code",
   "execution_count": 8,
   "id": "2eab987a-c68c-4619-af3e-ed18d24f9def",
   "metadata": {},
   "outputs": [],
   "source": [
    "from random import choice, randint\n",
    "\n",
    "def rsa_keys(p: int, q: int):\n",
    "    N = p * q\n",
    "    phi = (p - 1) * (q - 1)\n",
    "    e_options = []\n",
    "    for i in range(2, phi):\n",
    "        if gcd(N, i) == 1 and gcd(phi, i) == 1:\n",
    "            e_options.append(i)\n",
    "    e = choice(e_options)\n",
    "    d = 1\n",
    "    while (d * e) % phi != 1:\n",
    "        d += 1\n",
    "    d += randint(2, 255) * phi\n",
    "    \n",
    "    return {'pk': (e, N), 'sk': (d, N)}"
   ]
  },
  {
   "cell_type": "markdown",
   "id": "e6de8d35-a2d8-406d-a790-64d52f874979",
   "metadata": {},
   "source": [
    "## Encryption/Decryption\n",
    "\n",
    "Let's see an example using our private key/public key pair, given by our `rsa_keys` function."
   ]
  },
  {
   "cell_type": "code",
   "execution_count": 9,
   "id": "5e05bed8-50e4-4dab-b53c-411e66c0f4d4",
   "metadata": {},
   "outputs": [
    {
     "data": {
      "text/plain": [
       "{'pk': (5, 14), 'sk': (371, 14)}"
      ]
     },
     "execution_count": 9,
     "metadata": {},
     "output_type": "execute_result"
    }
   ],
   "source": [
    "keys = rsa_keys(p, q)\n",
    "keys"
   ]
  },
  {
   "cell_type": "markdown",
   "id": "d06bf533-0f10-4382-86fa-01abbadb87f7",
   "metadata": {},
   "source": [
    "Let's separate our private & public keys, and create a message to be encrypted.\n",
    "\n",
    "*Note:* since $p$ and $q$ are small, we can't encrypt large numbers here without losing information to collisions, although in general this won't be an issue. \n",
    "\n",
    "For now, let's encode the message '$abc$' as $[1, 2, 3]$; *i.e.* $a\\rightarrow 1$, $b\\rightarrow 2$, and $c\\rightarrow 3$."
   ]
  },
  {
   "cell_type": "code",
   "execution_count": 10,
   "id": "96d21cb9-9c7c-4786-93e0-e7203adde08e",
   "metadata": {},
   "outputs": [
    {
     "data": {
      "text/plain": [
       "[1, 2, 3, 4, 5, 6]"
      ]
     },
     "execution_count": 10,
     "metadata": {},
     "output_type": "execute_result"
    }
   ],
   "source": [
    "pk = keys['pk'] # public key\n",
    "sk = keys['sk'] # secret key\n",
    "message = [ord(c) - 97 + 1 for c in 'abcdef']\n",
    "message         # just a list of numbers now"
   ]
  },
  {
   "cell_type": "markdown",
   "id": "a48ef854-65aa-4dce-b7b7-736e90a47b06",
   "metadata": {},
   "source": [
    "For each number in our message, we will raise it to the power $e$ in our public key, $(e,N)$, then take the answer $mod \\space N$."
   ]
  },
  {
   "cell_type": "code",
   "execution_count": 11,
   "id": "2c8e8b32-4290-48e5-a4a1-1f20acf668fa",
   "metadata": {},
   "outputs": [
    {
     "data": {
      "text/plain": [
       "[1, 4, 5, 2, 3, 6]"
      ]
     },
     "execution_count": 11,
     "metadata": {},
     "output_type": "execute_result"
    }
   ],
   "source": [
    "e, N = pk\n",
    "encrypted_message = [(c**e) % N for c in message]\n",
    "encrypted_message"
   ]
  },
  {
   "cell_type": "markdown",
   "id": "99e0d651-1a34-4578-a7a0-d710a096b4db",
   "metadata": {},
   "source": [
    "Represented with letters, this becomes:"
   ]
  },
  {
   "cell_type": "code",
   "execution_count": 12,
   "id": "ad3c88b1-02c6-49d8-b291-b3a55a621ccd",
   "metadata": {},
   "outputs": [
    {
     "data": {
      "text/plain": [
       "'adebcf'"
      ]
     },
     "execution_count": 12,
     "metadata": {},
     "output_type": "execute_result"
    }
   ],
   "source": [
    "''.join([chr(c + 97 - 1) for c in encrypted_message])"
   ]
  },
  {
   "cell_type": "code",
   "execution_count": 13,
   "id": "f26b0651-3697-4f5b-bc24-73da364127d8",
   "metadata": {},
   "outputs": [
    {
     "data": {
      "text/plain": [
       "[1, 2, 3, 4, 5, 6]"
      ]
     },
     "execution_count": 13,
     "metadata": {},
     "output_type": "execute_result"
    }
   ],
   "source": [
    "d, N = sk\n",
    "decrypted_message = [(c ** d) % N for c in encrypted_message]\n",
    "decrypted_message"
   ]
  },
  {
   "cell_type": "markdown",
   "id": "9189ccda-8bfd-4921-80d2-07f9d6b401a7",
   "metadata": {},
   "source": [
    "We've successfully retrieved the original message:"
   ]
  },
  {
   "cell_type": "code",
   "execution_count": 14,
   "id": "84cb3310-8465-4e8c-b333-0678ad317d9a",
   "metadata": {},
   "outputs": [
    {
     "data": {
      "text/plain": [
       "'abcdef'"
      ]
     },
     "execution_count": 14,
     "metadata": {},
     "output_type": "execute_result"
    }
   ],
   "source": [
    "''.join([chr(c + 97 - 1) for c in decrypted_message])"
   ]
  },
  {
   "cell_type": "code",
   "execution_count": null,
   "id": "50d1cee5-174b-4997-ab2d-88f834027e1c",
   "metadata": {},
   "outputs": [],
   "source": []
  }
 ],
 "metadata": {
  "kernelspec": {
   "display_name": "Python 3 (ipykernel)",
   "language": "python",
   "name": "python3"
  },
  "language_info": {
   "codemirror_mode": {
    "name": "ipython",
    "version": 3
   },
   "file_extension": ".py",
   "mimetype": "text/x-python",
   "name": "python",
   "nbconvert_exporter": "python",
   "pygments_lexer": "ipython3",
   "version": "3.10.5"
  }
 },
 "nbformat": 4,
 "nbformat_minor": 5
}
