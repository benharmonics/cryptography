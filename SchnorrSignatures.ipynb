{
 "cells": [
  {
   "cell_type": "markdown",
   "id": "c516a71e-71cc-4af2-bd0c-a3646574f0c9",
   "metadata": {},
   "source": [
    "# Schnorr Signatures"
   ]
  },
  {
   "cell_type": "code",
   "execution_count": 1,
   "id": "af763869-922b-4fa7-9254-8de444106ea5",
   "metadata": {},
   "outputs": [],
   "source": [
    "import random\n",
    "from IPython.display import Markdown as md"
   ]
  },
  {
   "cell_type": "markdown",
   "id": "b416825e-c8d3-4188-9654-6008eb598226",
   "metadata": {},
   "source": [
    "We start by defining Schnorr signatures on a cyclic group of prime order 23. This group may have come from an elliptic curve.\n",
    "\n",
    "These signatures will not be strong! However, the implementation is simple for the purpose of making each calculation completely understandable."
   ]
  },
  {
   "cell_type": "code",
   "execution_count": 2,
   "id": "c83c3e55-d6e2-4ba8-976a-fb3493ca48da",
   "metadata": {},
   "outputs": [],
   "source": [
    "p = 23\n",
    "points = {i: chr(97 + i) for i in range(p)}"
   ]
  },
  {
   "cell_type": "markdown",
   "id": "6dd28f90-ca3e-4595-adc1-ad49bfe724cf",
   "metadata": {},
   "source": [
    "Private keys are numbers such that $0 \\le n < p$"
   ]
  },
  {
   "cell_type": "code",
   "execution_count": 3,
   "id": "546521dc-5512-4c66-bee1-59619d4a9ba1",
   "metadata": {},
   "outputs": [],
   "source": [
    "x_a = 17    # random.randint(0, p)\n",
    "x_b = 15    # random.randint(0, p)\n",
    "\n",
    "A = points[x_a]\n",
    "B = points[x_b]"
   ]
  },
  {
   "cell_type": "code",
   "execution_count": 4,
   "id": "4a372383-a48a-408a-86ed-b89bf59750fa",
   "metadata": {},
   "outputs": [
    {
     "data": {
      "text/markdown": [
       "$(x_a, A)=(17, r)$"
      ],
      "text/plain": [
       "<IPython.core.display.Markdown object>"
      ]
     },
     "execution_count": 4,
     "metadata": {},
     "output_type": "execute_result"
    }
   ],
   "source": [
    "md(f'$(x_a, A)=({x_a}, {A})$')"
   ]
  },
  {
   "cell_type": "code",
   "execution_count": 5,
   "id": "035e0a14-6f91-4318-b938-ff71e5312982",
   "metadata": {},
   "outputs": [
    {
     "data": {
      "text/markdown": [
       "$(x_b, B)=(15, p)$"
      ],
      "text/plain": [
       "<IPython.core.display.Markdown object>"
      ]
     },
     "execution_count": 5,
     "metadata": {},
     "output_type": "execute_result"
    }
   ],
   "source": [
    "md(f'$(x_b, B)=({x_b}, {B})$')"
   ]
  },
  {
   "cell_type": "markdown",
   "id": "52931c22-994f-4514-9fd0-e0662185478b",
   "metadata": {},
   "source": [
    "## Creating a hash function"
   ]
  },
  {
   "cell_type": "code",
   "execution_count": 6,
   "id": "5b6076d6-004a-4bb9-a2ab-f4c85b647f08",
   "metadata": {},
   "outputs": [],
   "source": [
    "def H(message: str, p: int = p):\n",
    "    \"\"\"A bad hash function for Z/23Z\n",
    "    \n",
    "    In general mod prime is not too bad, but\n",
    "    since the alphabet only has 26 letters we\n",
    "    might run into some collisions.\n",
    "    Also it will be pretty clear how the function\n",
    "    changes when we flip a letter.\n",
    "    \"\"\"\n",
    "    res = sum([ord(c) for c in message])\n",
    "    \n",
    "    return res % p"
   ]
  },
  {
   "cell_type": "code",
   "execution_count": 7,
   "id": "1a53f1a3-35b3-493e-955a-dfca2c237c90",
   "metadata": {},
   "outputs": [
    {
     "name": "stdout",
     "output_type": "stream",
     "text": [
      "MESSAGE: \"Bitcoin Transaction\", HASH: 16\n",
      "MESSAGE: \"Bitcoin transaction\", HASH: 2\n"
     ]
    }
   ],
   "source": [
    "message1 = 'Bitcoin Transaction'\n",
    "print(f'MESSAGE: \"{message1}\", HASH: {H(message1)}')\n",
    "\n",
    "message2 = 'Bitcoin transaction'\n",
    "print(f'MESSAGE: \"{message2}\", HASH: {H(message2)}')"
   ]
  },
  {
   "cell_type": "markdown",
   "id": "d7b1a81a-cad1-424e-9627-ab6d0a4f5ebc",
   "metadata": {},
   "source": [
    "## Signature function"
   ]
  },
  {
   "cell_type": "code",
   "execution_count": 8,
   "id": "92784c2c-a228-436a-837c-98a5a67013b2",
   "metadata": {},
   "outputs": [],
   "source": [
    "def sign(m: str, sk: int, p: int = p):\n",
    "    r = random.randint(0, 22)\n",
    "    print(f'Random nonce for signature: {r}')\n",
    "    return (r + H(m)*sk) % p, points[r]"
   ]
  },
  {
   "cell_type": "markdown",
   "id": "89615bb4-4d1d-4867-a917-29f902992d23",
   "metadata": {},
   "source": [
    "Computing random signatures:"
   ]
  },
  {
   "cell_type": "code",
   "execution_count": 9,
   "id": "0e638e21-1a2f-42c9-a64f-40d18befa516",
   "metadata": {},
   "outputs": [
    {
     "name": "stdout",
     "output_type": "stream",
     "text": [
      "Random nonce for signature: 1\n",
      "Random nonce for signature: 20\n"
     ]
    }
   ],
   "source": [
    "message = 'Bitcoin Transaction'\n",
    "s_a, R_a = sign(message, x_a)\n",
    "s_b, R_b = sign(message, x_b)"
   ]
  },
  {
   "cell_type": "markdown",
   "id": "cb8e307d-7bf5-4ee3-be15-f0ad614cb6ab",
   "metadata": {},
   "source": [
    "Our group is actually a 1-dimensional vector space over $F_{23}$.\n",
    "\n",
    "Elements in $F_{23}$ are scalars, so let's define scalar multiplication:"
   ]
  },
  {
   "cell_type": "code",
   "execution_count": 10,
   "id": "18d3859f-8d30-4965-b3eb-7dd0669a0086",
   "metadata": {},
   "outputs": [],
   "source": [
    "def add_points(a: chr, b: chr, p: int = p):\n",
    "    \"\"\"This only works because we constructed our group\n",
    "    in such a way that we know the discreet logarithm. In\n",
    "    general, this will NOT work and is not a safe way to\n",
    "    do this.\"\"\"\n",
    "    a = ord(a) - 97\n",
    "    b = ord(b) - 97\n",
    "    i = (a + b) % p\n",
    "    return points[i]\n",
    "\n",
    "def scalar_mult_point(scalar: int, point: int):\n",
    "    scalar = scalar or p    # The scalar multiple should not be 0\n",
    "    res = point\n",
    "    for i in range(scalar - 1):\n",
    "        res = add_points(res, point)\n",
    "    return res"
   ]
  },
  {
   "cell_type": "markdown",
   "id": "fb219da7-1e5f-4c3d-8d28-5770750fc5bc",
   "metadata": {},
   "source": [
    "## Verification function"
   ]
  },
  {
   "cell_type": "code",
   "execution_count": 11,
   "id": "e5790809-a1fb-443d-91e4-1b3553581943",
   "metadata": {},
   "outputs": [],
   "source": [
    "def verify(s, R, m, pup):\n",
    "    lhs = points[s]\n",
    "    rhs = add_points(R, scalar_mult_point(H(m), pup))\n",
    "    return lhs == rhs"
   ]
  },
  {
   "cell_type": "markdown",
   "id": "2245ee6c-03a9-4adf-ab37-f9b2e59c8a85",
   "metadata": {},
   "source": [
    "Verifying real signatures:"
   ]
  },
  {
   "cell_type": "code",
   "execution_count": 12,
   "id": "40473927-e47c-410e-aa9b-fc7e8a38ed7c",
   "metadata": {},
   "outputs": [
    {
     "data": {
      "text/plain": [
       "True"
      ]
     },
     "execution_count": 12,
     "metadata": {},
     "output_type": "execute_result"
    }
   ],
   "source": [
    "verify(s_a, R_a, message, A)"
   ]
  },
  {
   "cell_type": "code",
   "execution_count": 13,
   "id": "30285848-f4b3-499f-a5b4-fee253a79630",
   "metadata": {},
   "outputs": [
    {
     "data": {
      "text/plain": [
       "True"
      ]
     },
     "execution_count": 13,
     "metadata": {},
     "output_type": "execute_result"
    }
   ],
   "source": [
    "verify(s_b, R_b, message, B)"
   ]
  },
  {
   "cell_type": "markdown",
   "id": "99910d8f-fb88-4dda-8c17-3b1fbf8e59e8",
   "metadata": {},
   "source": [
    "*Not* verifying false signatures:"
   ]
  },
  {
   "cell_type": "code",
   "execution_count": 14,
   "id": "2309dfbe-a349-41b0-80f8-efc1a3617fc8",
   "metadata": {},
   "outputs": [
    {
     "data": {
      "text/plain": [
       "False"
      ]
     },
     "execution_count": 14,
     "metadata": {},
     "output_type": "execute_result"
    }
   ],
   "source": [
    "verify((s_a + 1) % p, R_a, message, A)"
   ]
  },
  {
   "cell_type": "code",
   "execution_count": 15,
   "id": "c1eb5e48-487c-4720-a0c9-cd7eced7b5d0",
   "metadata": {},
   "outputs": [
    {
     "data": {
      "text/plain": [
       "False"
      ]
     },
     "execution_count": 15,
     "metadata": {},
     "output_type": "execute_result"
    }
   ],
   "source": [
    "verify(s_a, add_points(R_a, 'c'), message, A)"
   ]
  },
  {
   "cell_type": "markdown",
   "id": "7d56f45b-d651-4132-8f41-94776dcf51ac",
   "metadata": {
    "tags": []
   },
   "source": [
    "## MuSig Case\n",
    "\n",
    "Note that you should just be able to add signatures:\n",
    "\n",
    "$s_{a}=k_{a}+H(m)d_{a}$\n",
    "\n",
    "$s_{b}=k_{b}+H(m)d_{b}$\n",
    "\n",
    "$\\Rightarrow s_{ab} =(s_{a}+s_{b})=(k_{a}+k_{b}) + H(m)(d_{a}+d_{b})$\n",
    "\n",
    "$\\Rightarrow s_{ab} = k_{ab} + H(m)d_{ab}$"
   ]
  },
  {
   "cell_type": "code",
   "execution_count": 16,
   "id": "e7b47eab-e258-4730-b6c2-78eb2e12cbc5",
   "metadata": {},
   "outputs": [
    {
     "data": {
      "text/markdown": [
       "A=r and B=p"
      ],
      "text/plain": [
       "<IPython.core.display.Markdown object>"
      ]
     },
     "execution_count": 16,
     "metadata": {},
     "output_type": "execute_result"
    }
   ],
   "source": [
    "md(f'A={A} and B={B}')"
   ]
  },
  {
   "cell_type": "code",
   "execution_count": 17,
   "id": "509e43a8-3259-4b6b-a599-6aacd2731f38",
   "metadata": {},
   "outputs": [
    {
     "data": {
      "text/markdown": [
       "AB=j"
      ],
      "text/plain": [
       "<IPython.core.display.Markdown object>"
      ]
     },
     "execution_count": 17,
     "metadata": {},
     "output_type": "execute_result"
    }
   ],
   "source": [
    "AB = add_points(A, B)\n",
    "md(f'AB={AB}')"
   ]
  },
  {
   "cell_type": "code",
   "execution_count": 18,
   "id": "c0a8b050-e3b9-4e3a-b380-d8c05f44edbd",
   "metadata": {},
   "outputs": [],
   "source": [
    "s_ab = (s_a + s_b) % p\n",
    "R_ab = add_points(R_a, R_b)"
   ]
  },
  {
   "cell_type": "code",
   "execution_count": 19,
   "id": "db16fbcb-7ce2-4863-a59a-5691acb4e8c7",
   "metadata": {},
   "outputs": [
    {
     "data": {
      "text/markdown": [
       "MuSig: $(s_{ab}, R_{ab})=$ (4, v) is a signature for public key $AB=j$"
      ],
      "text/plain": [
       "<IPython.core.display.Markdown object>"
      ]
     },
     "execution_count": 19,
     "metadata": {},
     "output_type": "execute_result"
    }
   ],
   "source": [
    "md('MuSig: $(s_{ab}, R_{ab})=$' + f' ({s_ab}, {R_ab}) is a signature for public key $AB={AB}$')"
   ]
  },
  {
   "cell_type": "code",
   "execution_count": 20,
   "id": "5f31e5b0-35ff-49cf-a9ff-cdc554a114bf",
   "metadata": {},
   "outputs": [
    {
     "data": {
      "text/plain": [
       "True"
      ]
     },
     "execution_count": 20,
     "metadata": {},
     "output_type": "execute_result"
    }
   ],
   "source": [
    "verify(s_ab, R_ab, message, AB)"
   ]
  },
  {
   "cell_type": "code",
   "execution_count": null,
   "id": "8bd6e0ee-558f-402a-8370-28db774341af",
   "metadata": {},
   "outputs": [],
   "source": []
  }
 ],
 "metadata": {
  "kernelspec": {
   "display_name": "Python 3 (ipykernel)",
   "language": "python",
   "name": "python3"
  },
  "language_info": {
   "codemirror_mode": {
    "name": "ipython",
    "version": 3
   },
   "file_extension": ".py",
   "mimetype": "text/x-python",
   "name": "python",
   "nbconvert_exporter": "python",
   "pygments_lexer": "ipython3",
   "version": "3.10.2"
  }
 },
 "nbformat": 4,
 "nbformat_minor": 5
}
