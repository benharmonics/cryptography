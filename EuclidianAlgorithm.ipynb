{
 "cells": [
  {
   "cell_type": "markdown",
   "id": "b4b59dea-41c9-4bc6-9704-af5294224913",
   "metadata": {},
   "source": [
    "# Euclidian Algorithm\n",
    "---\n",
    "\n",
    "*Finding the $gcd$ of two non-negative integers $a$ and $b$*"
   ]
  },
  {
   "cell_type": "markdown",
   "id": "b5e58e9b-544b-40a9-a4fc-5dcf0b776c53",
   "metadata": {},
   "source": [
    "## Intuition\n",
    "\n",
    "*Claim:* Given $a,b\\in \\mathbb{Z}$ where $a\\le b$ and $a,b\\ge 0$, $gcd(a,b)=gcd(a,b-a)$.\n",
    "\n",
    "*Pf:* Let $a,b\\in \\mathbb{Z}$ where $a\\le b$ and $a,b\\ge 0$.\n",
    "\n",
    "Suppose $g=gcd(a,b)$.\n",
    "\n",
    "We have that $g \\mid a \\wedge g \\mid b \\implies g \\mid b-a$.\n",
    "\n",
    "Thus $g \\mid gcd(a,b-a)$.\n",
    "\n",
    "Conversely, suppose $g=gcd(a,b-a)$.\n",
    "\n",
    "In this case, we have $g \\mid a \\wedge g \\mid b-a \\implies g \\mid (b-a)+a = b$.\n",
    "\n",
    "Hence $g \\mid gcd(a,b)$.\n",
    "\n",
    "Therefore $gcd(a,b)=gcd(a,b-a)$. QED"
   ]
  },
  {
   "cell_type": "code",
   "execution_count": 1,
   "id": "ee48a28f-2657-4659-abc0-b08bf87fed66",
   "metadata": {},
   "outputs": [],
   "source": [
    "def euclidian_algorithm(a: int, b: int) -> int:\n",
    "    \"\"\"Determines the GCD of two non-negative integers a and b\n",
    "        Inputs: (a, b) where both a and b are non-negative integers\n",
    "        Output: gcd(a, b)\n",
    "\n",
    "        Reference: https://www.youtube.com/watch?v=Jwf6ncRmhPg\"\"\"\n",
    "    # check inputs\n",
    "    try:\n",
    "        assert a >= 0 and b >= 0, f'Expected non-negative integers, got {a, b}'\n",
    "        if isinstance(a, float):\n",
    "            assert float.is_integer(a), f'Expected a and b to be integers, got {a, b}'\n",
    "        if isinstance(b, float):\n",
    "            assert float.is_integer(b), f'Expected a and b to be integers, got {a, b}'\n",
    "    except AssertionError as e:\n",
    "        print(e)\n",
    "        return\n",
    "    # algorithm\n",
    "    a, b = max(a, b), min(a, b)  # order s.t. a >= b\n",
    "    while b > 0:\n",
    "        a %= b\n",
    "        a, b = b, a\n",
    "    return a"
   ]
  },
  {
   "cell_type": "code",
   "execution_count": 2,
   "id": "fbbf2120-97d3-4890-92cc-c9373af39ef3",
   "metadata": {},
   "outputs": [
    {
     "data": {
      "text/plain": [
       "4"
      ]
     },
     "execution_count": 2,
     "metadata": {},
     "output_type": "execute_result"
    }
   ],
   "source": [
    "euclidian_algorithm(180, 196)"
   ]
  },
  {
   "cell_type": "markdown",
   "id": "f2b3dae7-783a-455c-abbe-ec83bb6011f3",
   "metadata": {
    "tags": []
   },
   "source": [
    "# Extended Euclidian Algorithm\n",
    "---\n",
    "\n",
    "*Challenge:* given $g=gcd(a,b)$, we have that $ax+by=g$. But how would we go about determining $x$ and $y$ (with $x,y \\in \\mathbb{Z}$)?"
   ]
  },
  {
   "cell_type": "code",
   "execution_count": 3,
   "id": "070623eb-cfca-4235-ae13-b07d4d5692d2",
   "metadata": {},
   "outputs": [],
   "source": [
    "def extended_euclidian_algorithm(a: int, b: int) -> (int, int, int):\n",
    "    \"\"\"The Extened Euclidian Algorithm yields integer solutions for x and y given ax + by = gcd(a, b)\n",
    "        Inputs: (a, b) where both a and b are non-negative integers and a <= b\n",
    "        Output: (g, x, y) where g is the greatest common divisor of a and b\n",
    "        \n",
    "        Reference: https://www.youtube.com/watch?v=IwRtISxAHY4\n",
    "    \"\"\"\n",
    "    # check inputs\n",
    "    try:\n",
    "        assert a >= 0 and b >= 0, f'Expected non-negative integers, got {a, b}'\n",
    "        if isinstance(a, float):\n",
    "            assert float.is_integer(a), f'Expected a and b to be integers, got {a, b}'\n",
    "        if isinstance(b, float):\n",
    "            assert float.is_integer(b), f'Expected a and b to be integers, got {a, b}'\n",
    "    except AssertionError as e:\n",
    "        print(e)\n",
    "        return\n",
    "    # algorithm\n",
    "    a, b = max(a, b), min(a, b)  # order s.t. a >= b\n",
    "    res = {'a': a, 'b': b}   # We'll return a dict with our result\n",
    "    # a = q*b + r - see reference\n",
    "    q = a // b\n",
    "    x_a = 1; y_a = 0\n",
    "    x_b = 0; y_b = 1\n",
    "    r_prev = r = a % b\n",
    "    x_r_prev = x_r = x_a - q * x_b\n",
    "    y_r_prev = y_r = -q * y_b\n",
    "    while r > 0:\n",
    "        r_prev, x_r_prev, y_r_prev = r, x_r, y_r\n",
    "        a %= b\n",
    "        a, x_a, y_a = b, x_b, y_b\n",
    "        b, x_b, y_b = r, x_r, y_r\n",
    "        q = a // b\n",
    "        r = a - q * b\n",
    "        x_r = x_a - q * x_b\n",
    "        y_r = y_a - q * y_b\n",
    "    res['x'] = x_r_prev; res['y'] = y_r_prev; res['g'] = r_prev\n",
    "    return res"
   ]
  },
  {
   "cell_type": "code",
   "execution_count": 4,
   "id": "599ee259-203b-4841-b600-ce612f477610",
   "metadata": {},
   "outputs": [
    {
     "data": {
      "text/plain": [
       "{'a': 196, 'b': 180, 'x': -11, 'y': 12, 'g': 4}"
      ]
     },
     "execution_count": 4,
     "metadata": {},
     "output_type": "execute_result"
    }
   ],
   "source": [
    "extended_euclidian_algorithm(180, 196)"
   ]
  },
  {
   "cell_type": "code",
   "execution_count": null,
   "id": "0095bf04-e1c1-4619-95de-fdf40e201d45",
   "metadata": {},
   "outputs": [],
   "source": []
  }
 ],
 "metadata": {
  "kernelspec": {
   "display_name": "Python 3 (ipykernel)",
   "language": "python",
   "name": "python3"
  },
  "language_info": {
   "codemirror_mode": {
    "name": "ipython",
    "version": 3
   },
   "file_extension": ".py",
   "mimetype": "text/x-python",
   "name": "python",
   "nbconvert_exporter": "python",
   "pygments_lexer": "ipython3",
   "version": "3.10.2"
  }
 },
 "nbformat": 4,
 "nbformat_minor": 5
}
