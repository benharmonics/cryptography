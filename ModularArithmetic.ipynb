{
 "cells": [
  {
   "cell_type": "markdown",
   "id": "7ddb1a5a-d7b5-4e3d-9001-d37aaa5b98a5",
   "metadata": {},
   "source": [
    "# Modular Arithmetic\n",
    "\n",
    "---"
   ]
  },
  {
   "cell_type": "code",
   "execution_count": 1,
   "id": "eb7bb9dc-ebda-476e-aa29-bee45abe8c2b",
   "metadata": {},
   "outputs": [],
   "source": [
    "from time import perf_counter # Don't use time.time to check performance!"
   ]
  },
  {
   "cell_type": "markdown",
   "id": "e2a18de9-96fc-4c61-8069-07d6fd9530b3",
   "metadata": {},
   "source": [
    "## Calculating $a^b \\space mod \\space m$\n",
    "\n",
    "[Reference](https://stackoverflow.com/questions/2177781/how-to-calculate-modulus-of-large-numbers)\n",
    "\n",
    "Let's calculate $5^{55} \\space mod \\space 221$, for example. At first we'll take a naïve approach, and then refine it.\n",
    "\n",
    "The idea is to calculate $a_1=a \\times a_0 \\space (mod \\space m)$, whence it follows that $0 \\le a_1 < m$. Then, we'll repeatedly apply $a_{n+1}=a \\times a_n \\space (mod \\space m)$ until we reach $a_n=a_b$. Note that $a_0 \\equiv 1$.\n",
    "\n",
    "Using this method, we avoid encountering numbers larger than $m^2$ because at every step $0 \\le a_n < m$ and $0 \\le a_1 < m$."
   ]
  },
  {
   "cell_type": "code",
   "execution_count": 9,
   "id": "fe7c698e-846d-4afb-9da3-d21769650689",
   "metadata": {},
   "outputs": [
    {
     "data": {
      "text/plain": [
       "112"
      ]
     },
     "execution_count": 9,
     "metadata": {},
     "output_type": "execute_result"
    }
   ],
   "source": [
    "(5**55) % 221"
   ]
  },
  {
   "cell_type": "code",
   "execution_count": 3,
   "id": "26101fd7-4ffb-48d0-a258-fb01319dca2a",
   "metadata": {},
   "outputs": [],
   "source": [
    "def simple_reduce_exponent(a: int, b: int, m: int):\n",
    "    res = 1\n",
    "    while b > 0:\n",
    "        res = (res * a) % m\n",
    "        b -= 1\n",
    "    return res"
   ]
  },
  {
   "cell_type": "code",
   "execution_count": 4,
   "id": "e8ab577c-7921-4fd1-95c3-c6ff63d8366a",
   "metadata": {},
   "outputs": [
    {
     "data": {
      "text/plain": [
       "112"
      ]
     },
     "execution_count": 4,
     "metadata": {},
     "output_type": "execute_result"
    }
   ],
   "source": [
    "simple_reduce_exponent(5, 55, 221)"
   ]
  },
  {
   "cell_type": "markdown",
   "id": "bbad0e7d-97f2-4ea8-be19-abd3bd86237c",
   "metadata": {},
   "source": [
    "We've verified the scheme works; this is useful when we're dealing with really large numbers that can't be calculated directly:"
   ]
  },
  {
   "cell_type": "code",
   "execution_count": 5,
   "id": "c544f080-cefd-4cfa-93f8-b5ed52541edd",
   "metadata": {},
   "outputs": [
    {
     "data": {
      "text/plain": [
       "117"
      ]
     },
     "execution_count": 5,
     "metadata": {},
     "output_type": "execute_result"
    }
   ],
   "source": [
    "simple_reduce_exponent(25519, 42048501, 221)"
   ]
  },
  {
   "cell_type": "markdown",
   "id": "61cad9b9-a25c-4092-adee-3a2e030d039f",
   "metadata": {},
   "source": [
    "We can improve our method by using [exponentiation by squaring](https://en.wikipedia.org/wiki/Exponentiation_by_squaring); hence we will reduce our function to use only $log \\space b$ multiplications instead of $b$. This is the [right-to-left binary method](https://en.wikipedia.org/wiki/Modular_exponentiation#Right-to-left_binary_method)."
   ]
  },
  {
   "cell_type": "code",
   "execution_count": 6,
   "id": "a9328189-fcfe-4c7b-9800-587098943a60",
   "metadata": {},
   "outputs": [],
   "source": [
    "def reduce_exponent(a: int, b: int, m: int):\n",
    "    a = a % m\n",
    "    res = 1\n",
    "    while b > 0:\n",
    "        if b % 2 == 1:\n",
    "            res = (res * a) % m\n",
    "        b = b // 2\n",
    "        a = (a * a) % m\n",
    "    return res"
   ]
  },
  {
   "cell_type": "code",
   "execution_count": 7,
   "id": "6b86dc30-f60a-4aa6-bb05-646a67cef7bc",
   "metadata": {},
   "outputs": [
    {
     "data": {
      "text/plain": [
       "112"
      ]
     },
     "execution_count": 7,
     "metadata": {},
     "output_type": "execute_result"
    }
   ],
   "source": [
    "reduce_exponent(5, 55, 221)"
   ]
  },
  {
   "cell_type": "markdown",
   "id": "ce7efaf9-c1f1-47e5-9e93-9557983e89ba",
   "metadata": {},
   "source": [
    "Let's quantify our improvement with `time.perf_counter`:"
   ]
  },
  {
   "cell_type": "code",
   "execution_count": 8,
   "id": "da8e2f5a-a6ff-4803-bedc-3228fbb8e5d0",
   "metadata": {},
   "outputs": [
    {
     "data": {
      "text/plain": [
       "{'simple': 5.813194399990607,\n",
       " 'improved': 5.1499984692782164e-05,\n",
       " 'diff': 5.813142900005914}"
      ]
     },
     "execution_count": 8,
     "metadata": {},
     "output_type": "execute_result"
    }
   ],
   "source": [
    "start = perf_counter()\n",
    "simple_reduce_exponent(25519, 42048501, 221)\n",
    "end = perf_counter()\n",
    "t1 = end - start\n",
    "\n",
    "start = perf_counter()\n",
    "reduce_exponent(25519, 42048501, 221)\n",
    "end = perf_counter()\n",
    "t2 = end - start\n",
    "\n",
    "{'simple': t1, 'improved': t2, 'diff': t1 - t2}"
   ]
  },
  {
   "cell_type": "code",
   "execution_count": null,
   "id": "f2ee1918-ceb8-4624-9c67-201de1264ed7",
   "metadata": {},
   "outputs": [],
   "source": []
  }
 ],
 "metadata": {
  "kernelspec": {
   "display_name": "Python 3 (ipykernel)",
   "language": "python",
   "name": "python3"
  },
  "language_info": {
   "codemirror_mode": {
    "name": "ipython",
    "version": 3
   },
   "file_extension": ".py",
   "mimetype": "text/x-python",
   "name": "python",
   "nbconvert_exporter": "python",
   "pygments_lexer": "ipython3",
   "version": "3.10.2"
  }
 },
 "nbformat": 4,
 "nbformat_minor": 5
}
